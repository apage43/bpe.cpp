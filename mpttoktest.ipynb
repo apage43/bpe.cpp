{
 "cells": [
  {
   "cell_type": "code",
   "execution_count": 6,
   "id": "3e3b4d5c-7af3-487c-a5ca-e095eb4a6576",
   "metadata": {},
   "outputs": [],
   "source": [
    "import tokenizers"
   ]
  },
  {
   "cell_type": "code",
   "execution_count": 7,
   "id": "80008273",
   "metadata": {},
   "outputs": [],
   "source": [
    "mptchattok = tokenizers.Tokenizer.from_pretrained('mosaicml/mpt-7b-chat')"
   ]
  },
  {
   "cell_type": "code",
   "execution_count": 8,
   "id": "522195b2",
   "metadata": {},
   "outputs": [
    {
     "data": {
      "text/plain": [
       "[12092,\n",
       " 13,\n",
       " 309,\n",
       " 717,\n",
       " 247,\n",
       " 288,\n",
       " 20255,\n",
       " 81,\n",
       " 1020,\n",
       " 13372,\n",
       " 14931,\n",
       " 99,\n",
       " 233,\n",
       " 285,\n",
       " 309,\n",
       " 717,\n",
       " 1060,\n",
       " 281,\n",
       " 1361,\n",
       " 2]"
      ]
     },
     "execution_count": 8,
     "metadata": {},
     "output_type": "execute_result"
    }
   ],
   "source": [
    "tinp = \"Hello, I am a hélpful assistant🤖 and I am here to help!\"\n",
    "e = mptchattok.encode(tinp)\n",
    "e.ids"
   ]
  }
 ],
 "metadata": {
  "kernelspec": {
   "display_name": "Python 3 (ipykernel)",
   "language": "python",
   "name": "python3"
  },
  "language_info": {
   "codemirror_mode": {
    "name": "ipython",
    "version": 3
   },
   "file_extension": ".py",
   "mimetype": "text/x-python",
   "name": "python",
   "nbconvert_exporter": "python",
   "pygments_lexer": "ipython3",
   "version": "3.10.9"
  }
 },
 "nbformat": 4,
 "nbformat_minor": 5
}
