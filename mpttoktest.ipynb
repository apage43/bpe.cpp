{
 "cells": [
  {
   "cell_type": "code",
   "execution_count": 2,
   "id": "3e3b4d5c-7af3-487c-a5ca-e095eb4a6576",
   "metadata": {},
   "outputs": [],
   "source": [
    "import tokenizers"
   ]
  },
  {
   "cell_type": "code",
   "execution_count": 3,
   "id": "80008273",
   "metadata": {},
   "outputs": [],
   "source": [
    "mptchattok = tokenizers.Tokenizer.from_pretrained('mosaicml/mpt-7b-chat')"
   ]
  },
  {
   "cell_type": "code",
   "execution_count": 5,
   "id": "522195b2",
   "metadata": {},
   "outputs": [
    {
     "data": {
      "text/plain": [
       "[50277,\n",
       " 10394,\n",
       " 187,\n",
       " 5658,\n",
       " 1472,\n",
       " 247,\n",
       " 9371,\n",
       " 14980,\n",
       " 13372,\n",
       " 22692,\n",
       " 99,\n",
       " 233,\n",
       " 326,\n",
       " 13052,\n",
       " 802,\n",
       " 13511,\n",
       " 261,\n",
       " 50278]"
      ]
     },
     "execution_count": 5,
     "metadata": {},
     "output_type": "execute_result"
    }
   ],
   "source": [
    "tinp = \"<|im_start|>system\\nyou're a helpful AI assistant 🤖 that likes emojis<|im_end|>\"\n",
    "e = mptchattok.encode(tinp)\n",
    "e.ids"
   ]
  }
 ],
 "metadata": {
  "kernelspec": {
   "display_name": "Python 3 (ipykernel)",
   "language": "python",
   "name": "python3"
  },
  "language_info": {
   "codemirror_mode": {
    "name": "ipython",
    "version": 3
   },
   "file_extension": ".py",
   "mimetype": "text/x-python",
   "name": "python",
   "nbconvert_exporter": "python",
   "pygments_lexer": "ipython3",
   "version": "3.10.9"
  }
 },
 "nbformat": 4,
 "nbformat_minor": 5
}
